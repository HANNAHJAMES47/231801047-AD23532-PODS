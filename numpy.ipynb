{
  "nbformat": 4,
  "nbformat_minor": 0,
  "metadata": {
    "colab": {
      "provenance": []
    },
    "kernelspec": {
      "name": "python3",
      "display_name": "Python 3"
    },
    "language_info": {
      "name": "python"
    }
  },
  "cells": [
    {
      "cell_type": "code",
      "source": [
        "import numpy as np"
      ],
      "metadata": {
        "id": "CsA_yEtbiKYA"
      },
      "execution_count": 3,
      "outputs": []
    },
    {
      "cell_type": "code",
      "source": [
        "arr = np.array([1, 2, 3, 4, 5])\n",
        "print(arr)\n"
      ],
      "metadata": {
        "colab": {
          "base_uri": "https://localhost:8080/"
        },
        "id": "w85qpDOZa3j2",
        "outputId": "765514c8-b700-48f4-d717-228029faffa4"
      },
      "execution_count": 4,
      "outputs": [
        {
          "output_type": "stream",
          "name": "stdout",
          "text": [
            "[1 2 3 4 5]\n"
          ]
        }
      ]
    },
    {
      "cell_type": "code",
      "source": [
        "my_arr = np.arange(10)\n",
        "print(my_arr)\n",
        "print(type(my_arr))"
      ],
      "metadata": {
        "colab": {
          "base_uri": "https://localhost:8080/"
        },
        "id": "5_zPXQAja9Yt",
        "outputId": "0d4b56a5-26cc-49c4-e817-df5e9390bd29"
      },
      "execution_count": 5,
      "outputs": [
        {
          "output_type": "stream",
          "name": "stdout",
          "text": [
            "[0 1 2 3 4 5 6 7 8 9]\n",
            "<class 'numpy.ndarray'>\n"
          ]
        }
      ]
    },
    {
      "cell_type": "code",
      "source": [
        "my_list = list(range(10))\n",
        "print(my_list)\n",
        "print(type(my_list))"
      ],
      "metadata": {
        "colab": {
          "base_uri": "https://localhost:8080/"
        },
        "id": "eUrkefc3bBjl",
        "outputId": "74420797-39d1-4e45-dbd3-afd80c86fe71"
      },
      "execution_count": 6,
      "outputs": [
        {
          "output_type": "stream",
          "name": "stdout",
          "text": [
            "[0, 1, 2, 3, 4, 5, 6, 7, 8, 9]\n",
            "<class 'list'>\n"
          ]
        }
      ]
    },
    {
      "cell_type": "code",
      "source": [
        "import numpy as np\n",
        "import sys\n",
        "S= range(1000)\n",
        "print(\"Size of each element of list in bytes: \",sys.getsizeof(S))\n",
        "print(\"Size of the whole list in bytes: \",sys.getsizeof(S)*len(S))\n",
        "D= np.arange(1000)\n",
        "print(\"Size of each element of the Numpy array in bytes: \",D.itemsize)\n",
        "print(\"Size of the whole Numpy array in bytes: \",D.size*D.itemsize)"
      ],
      "metadata": {
        "colab": {
          "base_uri": "https://localhost:8080/"
        },
        "id": "Ploez-qXbIqW",
        "outputId": "3fd33f06-317f-4106-fa66-844240f55854"
      },
      "execution_count": 7,
      "outputs": [
        {
          "output_type": "stream",
          "name": "stdout",
          "text": [
            "Size of each element of list in bytes:  48\n",
            "Size of the whole list in bytes:  48000\n",
            "Size of each element of the Numpy array in bytes:  8\n",
            "Size of the whole Numpy array in bytes:  8000\n"
          ]
        }
      ]
    },
    {
      "cell_type": "code",
      "source": [
        "print(type(S))"
      ],
      "metadata": {
        "colab": {
          "base_uri": "https://localhost:8080/"
        },
        "id": "C8FNYn35gI9j",
        "outputId": "4c973921-ba1b-46b2-8828-a0096308db74"
      },
      "execution_count": 8,
      "outputs": [
        {
          "output_type": "stream",
          "name": "stdout",
          "text": [
            "<class 'range'>\n"
          ]
        }
      ]
    },
    {
      "cell_type": "code",
      "source": [
        "a=np.array(42)\n",
        "print(a)"
      ],
      "metadata": {
        "colab": {
          "base_uri": "https://localhost:8080/"
        },
        "id": "xHqiZvEngiLT",
        "outputId": "61fd7652-19d9-434a-db06-3422e0aebaaf"
      },
      "execution_count": 9,
      "outputs": [
        {
          "output_type": "stream",
          "name": "stdout",
          "text": [
            "42\n"
          ]
        }
      ]
    },
    {
      "cell_type": "code",
      "source": [
        "a=np.array([1,2,3,4,5,])\n",
        "print(a)"
      ],
      "metadata": {
        "colab": {
          "base_uri": "https://localhost:8080/"
        },
        "id": "WscSJL20gxVy",
        "outputId": "0eaa6525-9faf-4ae5-a4d5-f2bbf501f6b9"
      },
      "execution_count": 10,
      "outputs": [
        {
          "output_type": "stream",
          "name": "stdout",
          "text": [
            "[1 2 3 4 5]\n"
          ]
        }
      ]
    },
    {
      "cell_type": "code",
      "source": [
        "a=np.array([[1,2,3],[4,5,6]])\n",
        "print(a)"
      ],
      "metadata": {
        "colab": {
          "base_uri": "https://localhost:8080/"
        },
        "id": "Qs4evmsnhW1K",
        "outputId": "b088b3e0-abd7-4974-9179-dcc46efa8a5a"
      },
      "execution_count": 11,
      "outputs": [
        {
          "output_type": "stream",
          "name": "stdout",
          "text": [
            "[[1 2 3]\n",
            " [4 5 6]]\n"
          ]
        }
      ]
    },
    {
      "cell_type": "code",
      "execution_count": 12,
      "metadata": {
        "id": "I-B5yDQ8asW6",
        "colab": {
          "base_uri": "https://localhost:8080/"
        },
        "outputId": "b24ee5d0-8370-4e9e-acad-20cd767d3c0a"
      },
      "outputs": [
        {
          "output_type": "stream",
          "name": "stdout",
          "text": [
            "[[[1 2 3]\n",
            "  [4 5 6]]\n",
            "\n",
            " [[1 2 3]\n",
            "  [4 5 6]]]\n"
          ]
        }
      ],
      "source": [
        "arr = np.array([[[1, 2, 3], [4, 5, 6]], [[1, 2, 3], [4, 5, 6]]])\n",
        "print(arr)\n"
      ]
    },
    {
      "cell_type": "code",
      "source": [
        "a = np.array(42)\n",
        "b = np.array([1, 2, 3, 4, 5])\n",
        "c = np.array([[1, 2, 3], [4, 5, 6]])\n",
        "d = np.array([[[1, 2, 3], [4, 5, 6]], [[1, 2, 3], [4, 5, 6]]])\n",
        "print(a.ndim)\n",
        "print(b.ndim)\n",
        "print(c.ndim)\n",
        "print(d.ndim)"
      ],
      "metadata": {
        "colab": {
          "base_uri": "https://localhost:8080/"
        },
        "id": "v-zG4fXxhMya",
        "outputId": "22d19791-c68b-497e-ea64-e78ab84f3070"
      },
      "execution_count": 13,
      "outputs": [
        {
          "output_type": "stream",
          "name": "stdout",
          "text": [
            "0\n",
            "1\n",
            "2\n",
            "3\n"
          ]
        }
      ]
    },
    {
      "cell_type": "code",
      "source": [
        "arr = np.array([1, 2, 3, 4], ndmin=5)\n",
        "print(arr)\n",
        "print('number of dimensions :', arr.ndim)"
      ],
      "metadata": {
        "colab": {
          "base_uri": "https://localhost:8080/"
        },
        "id": "mrLodtKxhQYA",
        "outputId": "5235e286-331a-4bd0-a42f-81880136dd19"
      },
      "execution_count": 14,
      "outputs": [
        {
          "output_type": "stream",
          "name": "stdout",
          "text": [
            "[[[[[1 2 3 4]]]]]\n",
            "number of dimensions : 5\n"
          ]
        }
      ]
    },
    {
      "cell_type": "code",
      "source": [
        "data = np.array([[1.5, -0.1, 3], [0, -3, 6.5]])\n",
        "print(\"Shape= \",data.shape)\n",
        "print(\"Type= \",data.dtype)\n",
        "print(\"Data = \", data)\n",
        "print(\"\\nAns1 = \",data * 10)\n",
        "print(\"\\nAns2= \",data+data)"
      ],
      "metadata": {
        "colab": {
          "base_uri": "https://localhost:8080/"
        },
        "id": "F6G00W1PhSOQ",
        "outputId": "82282637-9657-445d-9a7a-77edf2438dd8"
      },
      "execution_count": 15,
      "outputs": [
        {
          "output_type": "stream",
          "name": "stdout",
          "text": [
            "Shape=  (2, 3)\n",
            "Type=  float64\n",
            "Data =  [[ 1.5 -0.1  3. ]\n",
            " [ 0.  -3.   6.5]]\n",
            "\n",
            "Ans1 =  [[ 15.  -1.  30.]\n",
            " [  0. -30.  65.]]\n",
            "\n",
            "Ans2=  [[ 3.  -0.2  6. ]\n",
            " [ 0.  -6.  13. ]]\n"
          ]
        }
      ]
    },
    {
      "cell_type": "code",
      "source": [
        "my_list = [1, 2, 3, 4, 5]\n",
        "arr = np.array(my_list)\n",
        "print(type(arr))\n",
        "print(arr)\n",
        "print(\"\\n\", arr.dtype)"
      ],
      "metadata": {
        "colab": {
          "base_uri": "https://localhost:8080/"
        },
        "id": "CqVLpDIlhT8x",
        "outputId": "a7624dc7-9f2f-4646-ef00-2d04cac58872"
      },
      "execution_count": 16,
      "outputs": [
        {
          "output_type": "stream",
          "name": "stdout",
          "text": [
            "<class 'numpy.ndarray'>\n",
            "[1 2 3 4 5]\n",
            "\n",
            " int64\n"
          ]
        }
      ]
    },
    {
      "cell_type": "code",
      "source": [
        "zeros_arr = np.zeros((5,2))\n",
        "eros_arr = np.zeros(5)\n",
        "print(zeros_arr)\n",
        "zeros_arr = np.zeros((2,3))\n",
        "print(zeros_arr)\n",
        "print(\"Data type of the array: \",zeros_arr.dtype)\n",
        "zeros_arr_int = np.zeros((3,3), dtype=np.int16)\n",
        "print(\"\\nArray of zeros with integer elements: \\n\",zeros_arr_int)"
      ],
      "metadata": {
        "colab": {
          "base_uri": "https://localhost:8080/"
        },
        "id": "R0m8LpgOhXH6",
        "outputId": "f9ed6eeb-72b2-43b7-a79b-2ee235e2cb0b"
      },
      "execution_count": 17,
      "outputs": [
        {
          "output_type": "stream",
          "name": "stdout",
          "text": [
            "[[0. 0.]\n",
            " [0. 0.]\n",
            " [0. 0.]\n",
            " [0. 0.]\n",
            " [0. 0.]]\n",
            "[[0. 0. 0.]\n",
            " [0. 0. 0.]]\n",
            "Data type of the array:  float64\n",
            "\n",
            "Array of zeros with integer elements: \n",
            " [[0 0 0]\n",
            " [0 0 0]\n",
            " [0 0 0]]\n"
          ]
        }
      ]
    },
    {
      "cell_type": "code",
      "source": [
        "ones_arr = np.ones(6)\n",
        "print(ones_arr)\n",
        "ones_arr = np.ones((3,2,4))\n",
        "print(\"\\n\",ones_arr)\n",
        "print(\"\\n ndim= \",ones_arr.ndim)\n",
        "print(\"\\nData type of the array: \",ones_arr.dtype)\n",
        "ones_arr_int = np.ones((2,2), dtype=np.int16)\n",
        "print(\"\\nArray of ones with integer elements: \\n\",ones_arr_int)"
      ],
      "metadata": {
        "colab": {
          "base_uri": "https://localhost:8080/"
        },
        "id": "PwNrsh3YhetI",
        "outputId": "3be0d023-8145-43e8-8b97-8f4822ad8b10"
      },
      "execution_count": 18,
      "outputs": [
        {
          "output_type": "stream",
          "name": "stdout",
          "text": [
            "[1. 1. 1. 1. 1. 1.]\n",
            "\n",
            " [[[1. 1. 1. 1.]\n",
            "  [1. 1. 1. 1.]]\n",
            "\n",
            " [[1. 1. 1. 1.]\n",
            "  [1. 1. 1. 1.]]\n",
            "\n",
            " [[1. 1. 1. 1.]\n",
            "  [1. 1. 1. 1.]]]\n",
            "\n",
            " ndim=  3\n",
            "\n",
            "Data type of the array:  float64\n",
            "\n",
            "Array of ones with integer elements: \n",
            " [[1 1]\n",
            " [1 1]]\n"
          ]
        }
      ]
    },
    {
      "cell_type": "code",
      "source": [
        "empty_arr = np.empty((3,2))\n",
        "print(empty_arr)\n",
        "print(\"\\nData type of the array: \",empty_arr.dtype)"
      ],
      "metadata": {
        "colab": {
          "base_uri": "https://localhost:8080/"
        },
        "id": "hhaT47z3hivw",
        "outputId": "031808a5-5f73-40fd-bf7d-711e1a10c492"
      },
      "execution_count": 19,
      "outputs": [
        {
          "output_type": "stream",
          "name": "stdout",
          "text": [
            "[[1. 1.]\n",
            " [1. 1.]\n",
            " [1. 1.]]\n",
            "\n",
            "Data type of the array:  float64\n"
          ]
        }
      ]
    },
    {
      "cell_type": "code",
      "source": [
        "identity_matrix = np.eye(3)\n",
        "print(identity_matrix)\n",
        "identity_matrix = np.eye(4)\n",
        "print(\"\\n\",identity_matrix)"
      ],
      "metadata": {
        "colab": {
          "base_uri": "https://localhost:8080/"
        },
        "id": "81FcRMn9hnR4",
        "outputId": "30f6b7ee-8955-4992-8871-fa26dc3565ce"
      },
      "execution_count": 20,
      "outputs": [
        {
          "output_type": "stream",
          "name": "stdout",
          "text": [
            "[[1. 0. 0.]\n",
            " [0. 1. 0.]\n",
            " [0. 0. 1.]]\n",
            "\n",
            " [[1. 0. 0. 0.]\n",
            " [0. 1. 0. 0.]\n",
            " [0. 0. 1. 0.]\n",
            " [0. 0. 0. 1.]]\n"
          ]
        }
      ]
    },
    {
      "cell_type": "code",
      "source": [
        "arr1 = np.array([1, 2, 3], dtype=np.float64)\n",
        "arr2 = np.array([1, 2, 3], dtype=np.int32)\n",
        "print(arr1.dtype)\n",
        "print(arr2.dtype)"
      ],
      "metadata": {
        "colab": {
          "base_uri": "https://localhost:8080/"
        },
        "id": "pwi-CU_WiVXw",
        "outputId": "d7e2ffcb-993f-45b0-cce0-5842ecfbd505"
      },
      "execution_count": 21,
      "outputs": [
        {
          "output_type": "stream",
          "name": "stdout",
          "text": [
            "float64\n",
            "int32\n"
          ]
        }
      ]
    },
    {
      "cell_type": "code",
      "source": [
        "arr = np.array([1, 2, 3])\n",
        "print(\"Before converting: \", arr, arr.dtype)\n",
        "new_arr = arr.astype('f')\n",
        "print(\"After converting: \", new_arr, new_arr.dtype)"
      ],
      "metadata": {
        "colab": {
          "base_uri": "https://localhost:8080/"
        },
        "id": "85qnKAaeidSL",
        "outputId": "ce2fd39d-5f6a-45a5-a39e-5d2cef9b04a4"
      },
      "execution_count": 22,
      "outputs": [
        {
          "output_type": "stream",
          "name": "stdout",
          "text": [
            "Before converting:  [1 2 3] int64\n",
            "After converting:  [1. 2. 3.] float32\n"
          ]
        }
      ]
    },
    {
      "cell_type": "code",
      "source": [
        "arr = np.array([1.1, 2.2, 3.3])\n",
        "print(\"Before converting: \", arr, arr.dtype)\n",
        "new_arr = arr.astype('i')\n",
        "print(\"After converting: \", new_arr, new_arr.dtype)"
      ],
      "metadata": {
        "colab": {
          "base_uri": "https://localhost:8080/"
        },
        "id": "1OYZZzL8iet7",
        "outputId": "e6f826c8-8980-4a1e-f848-803003df34a4"
      },
      "execution_count": 23,
      "outputs": [
        {
          "output_type": "stream",
          "name": "stdout",
          "text": [
            "Before converting:  [1.1 2.2 3.3] float64\n",
            "After converting:  [1 2 3] int32\n"
          ]
        }
      ]
    },
    {
      "cell_type": "code",
      "source": [
        "arr = np.array(['1.1', '2.2', '-3.3'])\n",
        "print(\"Before converting: \", arr, arr.dtype)\n",
        "new_arr = arr.astype('f')\n",
        "print(\"After converting: \", new_arr, new_arr.dtype)"
      ],
      "metadata": {
        "colab": {
          "base_uri": "https://localhost:8080/"
        },
        "id": "0nxZzacsigeI",
        "outputId": "f0c7f814-8e62-464c-f52b-5174d92265a2"
      },
      "execution_count": 24,
      "outputs": [
        {
          "output_type": "stream",
          "name": "stdout",
          "text": [
            "Before converting:  ['1.1' '2.2' '-3.3'] <U4\n",
            "After converting:  [ 1.1  2.2 -3.3] float32\n"
          ]
        }
      ]
    },
    {
      "cell_type": "code",
      "source": [
        "import numpy as np\n",
        "\n",
        "arr = np.array(['1.1', '2.2', 'abc'])\n",
        "print(\"Before converting: \", arr, arr.dtype)\n",
        "\n",
        "try:\n",
        "    new_arr = arr.astype(np.float64)\n",
        "    print(\"After converting: \", new_arr, new_arr.dtype)\n",
        "except ValueError as e:\n",
        "    print(\"Conversion failed:\", e)\n"
      ],
      "metadata": {
        "colab": {
          "base_uri": "https://localhost:8080/"
        },
        "id": "h52WnVWnih-5",
        "outputId": "341452a5-fa14-44a6-b6aa-8a9845faae1e"
      },
      "execution_count": 25,
      "outputs": [
        {
          "output_type": "stream",
          "name": "stdout",
          "text": [
            "Before converting:  ['1.1' '2.2' 'abc'] <U3\n",
            "Conversion failed: could not convert string to float: np.str_('abc')\n"
          ]
        }
      ]
    },
    {
      "cell_type": "code",
      "source": [
        "arr1 = np.arange(10)\n",
        "arr2 = np.random.randn(10)\n",
        "print(\"array 1\\n\",arr1, arr1.dtype)\n",
        "print(\"Array 2 \\n\",arr2, arr2.dtype)\n",
        "new_arr = arr1.astype(arr2.dtype)\n",
        "print(\"New Array \\n\",new_arr, new_arr.dtype)"
      ],
      "metadata": {
        "colab": {
          "base_uri": "https://localhost:8080/"
        },
        "id": "q1AQLnZwijga",
        "outputId": "370750d2-525f-4b42-80a5-98187f1e0670"
      },
      "execution_count": 26,
      "outputs": [
        {
          "output_type": "stream",
          "name": "stdout",
          "text": [
            "array 1\n",
            " [0 1 2 3 4 5 6 7 8 9] int64\n",
            "Array 2 \n",
            " [ 1.49661793 -0.37582402 -0.50308854 -1.47073795 -0.74276211  0.13264157\n",
            " -0.99994277 -1.68244952 -0.06202618  0.01310742] float64\n",
            "New Array \n",
            " [0. 1. 2. 3. 4. 5. 6. 7. 8. 9.] float64\n"
          ]
        }
      ]
    },
    {
      "cell_type": "code",
      "source": [
        "str_arr = np.array(['hello', 'world', 'numpy'])\n",
        "print(str_arr)"
      ],
      "metadata": {
        "colab": {
          "base_uri": "https://localhost:8080/"
        },
        "id": "GqsJTkxMilSR",
        "outputId": "3e200d1b-cd0c-4ea2-b825-32c5e740e362"
      },
      "execution_count": 27,
      "outputs": [
        {
          "output_type": "stream",
          "name": "stdout",
          "text": [
            "['hello' 'world' 'numpy']\n"
          ]
        }
      ]
    },
    {
      "cell_type": "code",
      "source": [
        "import numpy as np\n",
        "a = np.array([1., 2., 3., 4.])\n",
        "b = np.array([5., 6., 7., 8.])\n",
        "print(a + b)\n",
        "print(a - b)\n",
        "print(a * b)\n",
        "print(a / b)\n",
        "print(a ** b)"
      ],
      "metadata": {
        "colab": {
          "base_uri": "https://localhost:8080/"
        },
        "id": "yiC6L9w_jlXP",
        "outputId": "d8ac7c15-268b-492a-a84e-013acfae5870"
      },
      "execution_count": 28,
      "outputs": [
        {
          "output_type": "stream",
          "name": "stdout",
          "text": [
            "[ 6.  8. 10. 12.]\n",
            "[-4. -4. -4. -4.]\n",
            "[ 5. 12. 21. 32.]\n",
            "[0.2        0.33333333 0.42857143 0.5       ]\n",
            "[1.0000e+00 6.4000e+01 2.1870e+03 6.5536e+04]\n"
          ]
        }
      ]
    },
    {
      "cell_type": "code",
      "source": [
        "a = np.array([1., 2., 3., 4.])\n",
        "print(a + 1) # [2. 3. 4. 5.]\n",
        "print(a - 1) # [0. 1. 2. 3.]\n",
        "print(a * 2) # [2. 4. 6. 8.]\n",
        "print(a / 2) # [0.5 1. 1.5 2. ]\n",
        "print(a ** 2) # [ 1. 4. 9. 16.]\n",
        "print(1/a)"
      ],
      "metadata": {
        "colab": {
          "base_uri": "https://localhost:8080/"
        },
        "id": "DYqVnqjFji6p",
        "outputId": "54ecf0d4-d816-482f-95fa-3d5117606351"
      },
      "execution_count": 29,
      "outputs": [
        {
          "output_type": "stream",
          "name": "stdout",
          "text": [
            "[2. 3. 4. 5.]\n",
            "[0. 1. 2. 3.]\n",
            "[2. 4. 6. 8.]\n",
            "[0.5 1.  1.5 2. ]\n",
            "[ 1.  4.  9. 16.]\n",
            "[1.         0.5        0.33333333 0.25      ]\n"
          ]
        }
      ]
    },
    {
      "cell_type": "code",
      "source": [
        "arr = np.arange(12)\n",
        "newarr = arr.reshape(4, 3)\n",
        "print(newarr)\n",
        "newarr = arr.reshape((4, 3),order='F')\n",
        "print(\"\\n\",newarr)"
      ],
      "metadata": {
        "colab": {
          "base_uri": "https://localhost:8080/"
        },
        "id": "87m50SiKkDIY",
        "outputId": "d4e7f274-dded-44dd-c274-e36cebaa5b59"
      },
      "execution_count": 30,
      "outputs": [
        {
          "output_type": "stream",
          "name": "stdout",
          "text": [
            "[[ 0  1  2]\n",
            " [ 3  4  5]\n",
            " [ 6  7  8]\n",
            " [ 9 10 11]]\n",
            "\n",
            " [[ 0  4  8]\n",
            " [ 1  5  9]\n",
            " [ 2  6 10]\n",
            " [ 3  7 11]]\n"
          ]
        }
      ]
    },
    {
      "cell_type": "code",
      "source": [
        "arr = np.array([[1, 2, 3, 4,9,10], [5, 6, 7, 8,11,12]])\n",
        "print(arr)\n",
        "newarr = arr.reshape(3, 2, 2)\n",
        "print(\"\\n\",newarr)\n",
        "newarr1 = newarr.reshape(3, -1)\n",
        "print(\"\\n reshape(3,-1) \\n\",newarr1)"
      ],
      "metadata": {
        "colab": {
          "base_uri": "https://localhost:8080/"
        },
        "id": "S4ztjpmHkG0h",
        "outputId": "fd237e9c-a6be-41d2-fb92-867ea2ed8713"
      },
      "execution_count": 31,
      "outputs": [
        {
          "output_type": "stream",
          "name": "stdout",
          "text": [
            "[[ 1  2  3  4  9 10]\n",
            " [ 5  6  7  8 11 12]]\n",
            "\n",
            " [[[ 1  2]\n",
            "  [ 3  4]]\n",
            "\n",
            " [[ 9 10]\n",
            "  [ 5  6]]\n",
            "\n",
            " [[ 7  8]\n",
            "  [11 12]]]\n",
            "\n",
            " reshape(3,-1) \n",
            " [[ 1  2  3  4]\n",
            " [ 9 10  5  6]\n",
            " [ 7  8 11 12]]\n"
          ]
        }
      ]
    },
    {
      "cell_type": "code",
      "source": [
        "original_array = np.array([[10, 20], [30, 40]])\n",
        "print(\"Original array:\\n\", original_array)\n",
        "flattened_array = original_array.flatten()\n",
        "flattened_array[0] = 999\n",
        "print(\"Flattened array:\\n\", flattened_array)\n",
        "raveled_array = original_array.ravel()\n",
        "raveled_array[1] = 888\n",
        "print(\"Original array:\\n\", original_array)\n",
        "print(\"Raveled array:\\n\", raveled_array)\n",
        "print(\"Original array:\\n\", original_array)"
      ],
      "metadata": {
        "colab": {
          "base_uri": "https://localhost:8080/"
        },
        "id": "9D1NN5fvkKOx",
        "outputId": "e54d212e-e19b-4207-f13a-ec3b40453162"
      },
      "execution_count": 32,
      "outputs": [
        {
          "output_type": "stream",
          "name": "stdout",
          "text": [
            "Original array:\n",
            " [[10 20]\n",
            " [30 40]]\n",
            "Flattened array:\n",
            " [999  20  30  40]\n",
            "Original array:\n",
            " [[ 10 888]\n",
            " [ 30  40]]\n",
            "Raveled array:\n",
            " [ 10 888  30  40]\n",
            "Original array:\n",
            " [[ 10 888]\n",
            " [ 30  40]]\n"
          ]
        }
      ]
    },
    {
      "cell_type": "code",
      "source": [
        "arr = np.array([[1, 2, 3], [4, 5, 6]])\n",
        "r_arr = np.ravel(arr)\n",
        "print(\"Flattened array:\", r_arr)\n",
        "r_arr[0] = 10\n",
        "print(\"Original array after modification:\", arr)\n",
        "arr = np.array([[1, 2, 3], [4, 5, 6]])\n",
        "f_arr = arr.flatten()\n",
        "print(\"Flattened array:\", f_arr)\n",
        "f_arr[0] = 10\n",
        "print(\"original array after flattening:\", arr)"
      ],
      "metadata": {
        "colab": {
          "base_uri": "https://localhost:8080/"
        },
        "id": "v5EwFSpkkQih",
        "outputId": "9bd5d91d-4199-437c-93d5-d10b41ffd2d3"
      },
      "execution_count": 33,
      "outputs": [
        {
          "output_type": "stream",
          "name": "stdout",
          "text": [
            "Flattened array: [1 2 3 4 5 6]\n",
            "Original array after modification: [[10  2  3]\n",
            " [ 4  5  6]]\n",
            "Flattened array: [1 2 3 4 5 6]\n",
            "original array after flattening: [[1 2 3]\n",
            " [4 5 6]]\n"
          ]
        }
      ]
    },
    {
      "cell_type": "code",
      "source": [
        "arr = np.array([1, 4, 9, 16])\n",
        "result = arr ** 0.5\n",
        "print(result) # Output: [1. 2. 3. 4.]"
      ],
      "metadata": {
        "colab": {
          "base_uri": "https://localhost:8080/"
        },
        "id": "aSShuCsTkYGh",
        "outputId": "d8c00e78-d794-4373-9714-923536872e75"
      },
      "execution_count": 34,
      "outputs": [
        {
          "output_type": "stream",
          "name": "stdout",
          "text": [
            "[1. 2. 3. 4.]\n"
          ]
        }
      ]
    },
    {
      "cell_type": "code",
      "source": [
        "arr1 = np.array([[1, 2], [3, 4]])\n",
        "arr2 = np.array([[2, 1], [3, 5]])\n",
        "greater_than = arr1 > arr2\n",
        "less_than = arr1 < arr2\n",
        "equal_to = arr1 == arr2\n",
        "print(\"Greater than:\\n\", greater_than)\n",
        "print(\"\\nLess than:\\n\", less_than)\n",
        "print(\"\\nEqual to:\\n\", equal_to)\n",
        "arr3 = np.array([1, 2, 3])\n",
        "arr4 = np.array([1, 2, 3])\n",
        "arr5 = np.array([1, 2, 4])\n",
        "result1 = np.array_equal(arr3, arr4) # True\n",
        "result2 = np.array_equal(arr3, arr5) # False\n",
        "print(\"\\nArray-wise comparison 1:\", result1)\n",
        "print(\"Array-wise comparison 2:\", result2)"
      ],
      "metadata": {
        "colab": {
          "base_uri": "https://localhost:8080/"
        },
        "id": "84DnKP8ckaV4",
        "outputId": "96386798-db7c-4cd7-cec5-f1511a88f340"
      },
      "execution_count": 35,
      "outputs": [
        {
          "output_type": "stream",
          "name": "stdout",
          "text": [
            "Greater than:\n",
            " [[False  True]\n",
            " [False False]]\n",
            "\n",
            "Less than:\n",
            " [[ True False]\n",
            " [False  True]]\n",
            "\n",
            "Equal to:\n",
            " [[False False]\n",
            " [ True False]]\n",
            "\n",
            "Array-wise comparison 1: True\n",
            "Array-wise comparison 2: False\n"
          ]
        }
      ]
    },
    {
      "cell_type": "code",
      "source": [
        "arr = np.arange(15)\n",
        "arr.reshape((5, -1))\n",
        "other_arr = np.ones((3, 5))\n",
        "other_arr.shape\n",
        "arr.reshape(other_arr.shape)"
      ],
      "metadata": {
        "colab": {
          "base_uri": "https://localhost:8080/"
        },
        "id": "hjEXUWxEkePY",
        "outputId": "c5d60822-3fcc-401e-e5d2-f65ba243d389"
      },
      "execution_count": 36,
      "outputs": [
        {
          "output_type": "execute_result",
          "data": {
            "text/plain": [
              "array([[ 0,  1,  2,  3,  4],\n",
              "       [ 5,  6,  7,  8,  9],\n",
              "       [10, 11, 12, 13, 14]])"
            ]
          },
          "metadata": {},
          "execution_count": 36
        }
      ]
    },
    {
      "cell_type": "code",
      "source": [
        "x = np.arange(10)\n",
        "print(\"x= \",x)\n",
        "print(\"\\n x[:5]= \",x[:5])\n",
        "print(\"\\n x[5:]= \",x[5:])\n",
        "print(\"\\n x[4:7]= \",x[4:7])\n",
        "print(\"\\n x[::2]= \",x[::2])\n",
        "print(\"\\n x[1::2]= \",x[1::2])\n",
        "print(\"\\n x[::-1]= \",x[::-1])\n",
        "print(\"\\n x[5::-2]= \",x[5::-2])"
      ],
      "metadata": {
        "colab": {
          "base_uri": "https://localhost:8080/"
        },
        "id": "rSbsigPJkgP5",
        "outputId": "2ab8ece8-9254-4deb-950d-414b5eec28d4"
      },
      "execution_count": 37,
      "outputs": [
        {
          "output_type": "stream",
          "name": "stdout",
          "text": [
            "x=  [0 1 2 3 4 5 6 7 8 9]\n",
            "\n",
            " x[:5]=  [0 1 2 3 4]\n",
            "\n",
            " x[5:]=  [5 6 7 8 9]\n",
            "\n",
            " x[4:7]=  [4 5 6]\n",
            "\n",
            " x[::2]=  [0 2 4 6 8]\n",
            "\n",
            " x[1::2]=  [1 3 5 7 9]\n",
            "\n",
            " x[::-1]=  [9 8 7 6 5 4 3 2 1 0]\n",
            "\n",
            " x[5::-2]=  [5 3 1]\n"
          ]
        }
      ]
    },
    {
      "cell_type": "code",
      "source": [
        "x = np.arange(10)\n",
        "print(x)\n",
        "x[5:] = 2\n",
        "print(\"\\n After broadcasting1\",x)\n",
        "x[::2] = 100\n",
        "print(\"\\n After broadcasting2\",x)"
      ],
      "metadata": {
        "id": "RPRgG53NkrMD",
        "outputId": "f999cfc4-1fba-4287-a328-a7499c0297f9",
        "colab": {
          "base_uri": "https://localhost:8080/"
        }
      },
      "execution_count": 38,
      "outputs": [
        {
          "output_type": "stream",
          "name": "stdout",
          "text": [
            "[0 1 2 3 4 5 6 7 8 9]\n",
            "\n",
            " After broadcasting1 [0 1 2 3 4 2 2 2 2 2]\n",
            "\n",
            " After broadcasting2 [100   1 100   3 100   2 100   2 100   2]\n"
          ]
        }
      ]
    },
    {
      "cell_type": "code",
      "source": [
        "x = np.arange(10)\n",
        "print(\"Original array:\", x)\n",
        "view = x[2:7]\n",
        "print(\"View of the array:\", view)\n",
        "view[1:4] = 99\n",
        "print(\"Modified view:\", view)"
      ],
      "metadata": {
        "id": "ZHK336NUktbo",
        "outputId": "5c26a72f-de9b-4963-b46a-68240f329d6f",
        "colab": {
          "base_uri": "https://localhost:8080/"
        }
      },
      "execution_count": 39,
      "outputs": [
        {
          "output_type": "stream",
          "name": "stdout",
          "text": [
            "Original array: [0 1 2 3 4 5 6 7 8 9]\n",
            "View of the array: [2 3 4 5 6]\n",
            "Modified view: [ 2 99 99 99  6]\n"
          ]
        }
      ]
    },
    {
      "cell_type": "code",
      "source": [
        "X = np.arange(10)\n",
        "print(\"Original array:\", x)\n",
        "view = x[2:7]\n",
        "print(\"View of the array:\", view)\n",
        "view [1:4] = 99\n",
        "print(\"Modified view:\", view)"
      ],
      "metadata": {
        "colab": {
          "base_uri": "https://localhost:8080/"
        },
        "id": "MpTYtgGT7COm",
        "outputId": "e19649ef-6e56-4095-804d-086c8233b285"
      },
      "execution_count": 40,
      "outputs": [
        {
          "output_type": "stream",
          "name": "stdout",
          "text": [
            "Original array: [ 0  1  2 99 99 99  6  7  8  9]\n",
            "View of the array: [ 2 99 99 99  6]\n",
            "Modified view: [ 2 99 99 99  6]\n"
          ]
        }
      ]
    },
    {
      "cell_type": "code",
      "source": [
        "print(\"Original array after modifying the view:\", x)\n",
        "view [:]= -9\n",
        "print(\"Modified view:\", view)\n",
        "print(\"Original array after modifying the view:\", x)\n"
      ],
      "metadata": {
        "colab": {
          "base_uri": "https://localhost:8080/"
        },
        "id": "AH2H2isU8WzV",
        "outputId": "c59b413b-3303-4050-81ea-de8985a9f1dc"
      },
      "execution_count": 41,
      "outputs": [
        {
          "output_type": "stream",
          "name": "stdout",
          "text": [
            "Original array after modifying the view: [ 0  1  2 99 99 99  6  7  8  9]\n",
            "Modified view: [-9 -9 -9 -9 -9]\n",
            "Original array after modifying the view: [ 0  1 -9 -9 -9 -9 -9  7  8  9]\n"
          ]
        }
      ]
    },
    {
      "cell_type": "code",
      "source": [
        "x2 = np.array([[12, 5, 2, 4],\n",
        "[ 7, 6, 8, 8],\n",
        "[ 1, 6, 7, 711]])\n",
        "print(x2[0])\n",
        "print(x2[1] [2])\n",
        "print(x2[2, -1])\n",
        "print(x2[0])"
      ],
      "metadata": {
        "colab": {
          "base_uri": "https://localhost:8080/"
        },
        "id": "c1wvent38snA",
        "outputId": "8e20d1cc-b715-4c30-8a55-e93bb7b7040f"
      },
      "execution_count": 46,
      "outputs": [
        {
          "output_type": "stream",
          "name": "stdout",
          "text": [
            "[12  5  2  4]\n",
            "8\n",
            "711\n",
            "[12  5  2  4]\n"
          ]
        }
      ]
    },
    {
      "cell_type": "code",
      "source": [
        "x3=np.array([[[12, 5, 2, 4],\n",
        "[ 7, 6, 8, 8]],\n",
        "[[ 1, 6, 7, 7],\n",
        "[ 3, 4, 5, 9111]]])\n",
        "print(x3[0])\n"
      ],
      "metadata": {
        "colab": {
          "base_uri": "https://localhost:8080/"
        },
        "id": "f2NPOjLS8_iE",
        "outputId": "4178f567-5698-48b8-b021-b2c01a715b32"
      },
      "execution_count": 49,
      "outputs": [
        {
          "output_type": "stream",
          "name": "stdout",
          "text": [
            "[[12  5  2  4]\n",
            " [ 7  6  8  8]]\n"
          ]
        }
      ]
    },
    {
      "cell_type": "code",
      "source": [
        "a = np.arange(12). reshape (3,4)\n",
        "print(\"a= \\n\", a)\n",
        "b = a > 4\n",
        "print(\"b= \\n\",b)\n",
        "print(\"a[b]= \\n\", a [b]) # 1d array\n",
        "a [b] = 1\n",
        "print(\"a= \\n\",a)\n"
      ],
      "metadata": {
        "colab": {
          "base_uri": "https://localhost:8080/"
        },
        "id": "7D1x96d79bh0",
        "outputId": "8e761ccf-c231-40f0-ebbc-dba36e1b45ea"
      },
      "execution_count": 50,
      "outputs": [
        {
          "output_type": "stream",
          "name": "stdout",
          "text": [
            "a= \n",
            " [[ 0  1  2  3]\n",
            " [ 4  5  6  7]\n",
            " [ 8  9 10 11]]\n",
            "b= \n",
            " [[False False False False]\n",
            " [False  True  True  True]\n",
            " [ True  True  True  True]]\n",
            "a[b]= \n",
            " [ 5  6  7  8  9 10 11]\n",
            "a= \n",
            " [[0 1 2 3]\n",
            " [4 1 1 1]\n",
            " [1 1 1 1]]\n"
          ]
        }
      ]
    },
    {
      "cell_type": "code",
      "source": [],
      "metadata": {
        "id": "FEIHx_R-9j7W"
      },
      "execution_count": null,
      "outputs": []
    },
    {
      "cell_type": "code",
      "source": [
        "names = np.array(['Bob', 'Joe', 'Will', 'Bob', 'Will', 'Joe', 'Joe'])\n",
        "data = np.arange(28). reshape(7, 4)\n",
        "print(names)\n",
        "print(\"data= \\n\", data)\n",
        "print(\"names bool= \\n\", names == 'Bob') # returns a boolean array\n",
        "print(\"names == 'Bob' \\n\", data [names\n",
        "== 'Bob'])\n"
      ],
      "metadata": {
        "colab": {
          "base_uri": "https://localhost:8080/"
        },
        "id": "ACyHgbcV9gw5",
        "outputId": "f00c7158-1c13-4da6-a284-254ef6fff587"
      },
      "execution_count": 54,
      "outputs": [
        {
          "output_type": "stream",
          "name": "stdout",
          "text": [
            "['Bob' 'Joe' 'Will' 'Bob' 'Will' 'Joe' 'Joe']\n",
            "data= \n",
            " [[ 0  1  2  3]\n",
            " [ 4  5  6  7]\n",
            " [ 8  9 10 11]\n",
            " [12 13 14 15]\n",
            " [16 17 18 19]\n",
            " [20 21 22 23]\n",
            " [24 25 26 27]]\n",
            "names bool= \n",
            " [ True False False  True False False False]\n",
            "names == 'Bob' \n",
            " [[ 0  1  2  3]\n",
            " [12 13 14 15]]\n"
          ]
        }
      ]
    },
    {
      "cell_type": "code",
      "source": [
        "names = np.array(['Bob', 'Joe', 'Will', 'Bob', 'Will', 'Joe', 'Joe'])\n",
        "data = np.arange(28). reshape(7, 4)\n",
        "print(data [names != 'Bob'])\n",
        "print(\"\\n\", data [~(names == 'Bob')])\n",
        "data [names != 'Bob']=-1\n",
        "print(\"\\ndata= \\n\", data)"
      ],
      "metadata": {
        "colab": {
          "base_uri": "https://localhost:8080/"
        },
        "id": "-xHqBA8c9uVn",
        "outputId": "06beb828-f6d8-47d2-8cad-9270a271e3de"
      },
      "execution_count": 56,
      "outputs": [
        {
          "output_type": "stream",
          "name": "stdout",
          "text": [
            "[[ 4  5  6  7]\n",
            " [ 8  9 10 11]\n",
            " [16 17 18 19]\n",
            " [20 21 22 23]\n",
            " [24 25 26 27]]\n",
            "\n",
            " [[ 4  5  6  7]\n",
            " [ 8  9 10 11]\n",
            " [16 17 18 19]\n",
            " [20 21 22 23]\n",
            " [24 25 26 27]]\n",
            "\n",
            "data= \n",
            " [[ 0  1  2  3]\n",
            " [-1 -1 -1 -1]\n",
            " [-1 -1 -1 -1]\n",
            " [12 13 14 15]\n",
            " [-1 -1 -1 -1]\n",
            " [-1 -1 -1 -1]\n",
            " [-1 -1 -1 -1]]\n"
          ]
        }
      ]
    }
  ]
}