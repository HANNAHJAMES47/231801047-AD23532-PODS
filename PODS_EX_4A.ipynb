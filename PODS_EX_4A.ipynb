{
  "nbformat": 4,
  "nbformat_minor": 0,
  "metadata": {
    "colab": {
      "provenance": []
    },
    "kernelspec": {
      "name": "python3",
      "display_name": "Python 3"
    },
    "language_info": {
      "name": "python"
    }
  },
  "cells": [
    {
      "cell_type": "code",
      "execution_count": 1,
      "metadata": {
        "colab": {
          "base_uri": "https://localhost:8080/"
        },
        "id": "rAbOiRnPaw35",
        "outputId": "b0abed70-588c-422a-cecc-00768d9174f3"
      },
      "outputs": [
        {
          "output_type": "stream",
          "name": "stdout",
          "text": [
            "Requirement already satisfied: pandas in /usr/local/lib/python3.11/dist-packages (2.2.2)\n",
            "Requirement already satisfied: numpy in /usr/local/lib/python3.11/dist-packages (2.0.2)\n",
            "Requirement already satisfied: nltk in /usr/local/lib/python3.11/dist-packages (3.9.1)\n",
            "Requirement already satisfied: scikit-learn in /usr/local/lib/python3.11/dist-packages (1.6.1)\n",
            "Requirement already satisfied: python-dateutil>=2.8.2 in /usr/local/lib/python3.11/dist-packages (from pandas) (2.9.0.post0)\n",
            "Requirement already satisfied: pytz>=2020.1 in /usr/local/lib/python3.11/dist-packages (from pandas) (2025.2)\n",
            "Requirement already satisfied: tzdata>=2022.7 in /usr/local/lib/python3.11/dist-packages (from pandas) (2025.2)\n",
            "Requirement already satisfied: click in /usr/local/lib/python3.11/dist-packages (from nltk) (8.2.1)\n",
            "Requirement already satisfied: joblib in /usr/local/lib/python3.11/dist-packages (from nltk) (1.5.1)\n",
            "Requirement already satisfied: regex>=2021.8.3 in /usr/local/lib/python3.11/dist-packages (from nltk) (2024.11.6)\n",
            "Requirement already satisfied: tqdm in /usr/local/lib/python3.11/dist-packages (from nltk) (4.67.1)\n",
            "Requirement already satisfied: scipy>=1.6.0 in /usr/local/lib/python3.11/dist-packages (from scikit-learn) (1.16.1)\n",
            "Requirement already satisfied: threadpoolctl>=3.1.0 in /usr/local/lib/python3.11/dist-packages (from scikit-learn) (3.6.0)\n",
            "Requirement already satisfied: six>=1.5 in /usr/local/lib/python3.11/dist-packages (from python-dateutil>=2.8.2->pandas) (1.17.0)\n"
          ]
        }
      ],
      "source": [
        "!pip install pandas numpy nltk scikit-learn"
      ]
    },
    {
      "cell_type": "code",
      "source": [
        "import pandas as pd\n",
        "import numpy as np\n",
        "import nltk\n",
        "import string\n",
        "from sklearn.feature_extraction.text import TfidfVectorizer\n",
        "from sklearn.metrics.pairwise import cosine_similarity"
      ],
      "metadata": {
        "id": "MiVR1lFKcJHW"
      },
      "execution_count": 2,
      "outputs": []
    },
    {
      "cell_type": "code",
      "source": [
        "nltk.download('punkt')\n",
        "nltk.download('stopwords')\n",
        "from nltk.corpus import stopwords\n",
        "from nltk.tokenize import word_tokenize\n",
        "nltk.download('punkt', download_dir='/usr/local/nltk_data')\n"
      ],
      "metadata": {
        "colab": {
          "base_uri": "https://localhost:8080/"
        },
        "id": "UBwMObh9coAG",
        "outputId": "791e3ee9-3bf6-4c50-d759-247ef4bb246c"
      },
      "execution_count": 14,
      "outputs": [
        {
          "output_type": "stream",
          "name": "stderr",
          "text": [
            "[nltk_data] Downloading package punkt to /root/nltk_data...\n",
            "[nltk_data]   Package punkt is already up-to-date!\n",
            "[nltk_data] Downloading package stopwords to /root/nltk_data...\n",
            "[nltk_data]   Package stopwords is already up-to-date!\n",
            "[nltk_data] Downloading package punkt to /usr/local/nltk_data...\n",
            "[nltk_data]   Unzipping tokenizers/punkt.zip.\n"
          ]
        },
        {
          "output_type": "execute_result",
          "data": {
            "text/plain": [
              "True"
            ]
          },
          "metadata": {},
          "execution_count": 14
        }
      ]
    },
    {
      "cell_type": "code",
      "source": [
        "df=pd.read_csv('Reviews.csv')\n",
        "reviews=df['Text']\n",
        "reviews=reviews.dropna()\n",
        "reviews=reviews[:10000]\n",
        "print(reviews.head())"
      ],
      "metadata": {
        "colab": {
          "base_uri": "https://localhost:8080/"
        },
        "id": "gKMhS5h7dM1m",
        "outputId": "57085ee3-71a2-4b0c-a8c9-1e2dac36148e"
      },
      "execution_count": 5,
      "outputs": [
        {
          "output_type": "stream",
          "name": "stdout",
          "text": [
            "0    I have bought several of the Vitality canned d...\n",
            "1    Product arrived labeled as Jumbo Salted Peanut...\n",
            "2    This is a confection that has been around a fe...\n",
            "3    If you are looking for the secret ingredient i...\n",
            "4    Great taffy at a great price.  There was a wid...\n",
            "Name: Text, dtype: object\n"
          ]
        }
      ]
    },
    {
      "cell_type": "code",
      "source": [
        "stop_words=set(stopwords.words('english'))"
      ],
      "metadata": {
        "id": "egNXuBGUdfiu"
      },
      "execution_count": 6,
      "outputs": []
    },
    {
      "cell_type": "code",
      "source": [
        "import re\n",
        "def preprocess_text(text):\n",
        "  text=text.lower()\n",
        "  text=re.sub(r'[^a-zA-Z0-9\\s]','',text)\n",
        "  #tokens=word_tokenize(text)\n",
        "  tokens=text.split()\n",
        "  tokens=[word for word in tokens if word not in stop_words]\n",
        "  return \" \".join(tokens)"
      ],
      "metadata": {
        "id": "BC5EIymZdt09"
      },
      "execution_count": 21,
      "outputs": []
    },
    {
      "cell_type": "code",
      "source": [
        "cleaned_reviews=reviews.apply(preprocess_text)\n",
        "print(cleaned_reviews.head())"
      ],
      "metadata": {
        "colab": {
          "base_uri": "https://localhost:8080/"
        },
        "id": "__KU-EaIggds",
        "outputId": "e81a0cac-60fc-4725-d04d-2c52537446f4"
      },
      "execution_count": 22,
      "outputs": [
        {
          "output_type": "stream",
          "name": "stdout",
          "text": [
            "0    bought several vitality canned dog food produc...\n",
            "1    product arrived labeled jumbo salted peanutsth...\n",
            "2    confection around centuries light pillowy citr...\n",
            "3    looking secret ingredient robitussin believe f...\n",
            "4    great taffy great price wide assortment yummy ...\n",
            "Name: Text, dtype: object\n"
          ]
        }
      ]
    },
    {
      "cell_type": "code",
      "source": [
        "vectorizer=TfidfVectorizer()\n",
        "tfidf_matrix=vectorizer.fit_transform(cleaned_reviews)\n",
        "print(tfidf_matrix.shape)"
      ],
      "metadata": {
        "colab": {
          "base_uri": "https://localhost:8080/"
        },
        "id": "GmSflCpXhMu-",
        "outputId": "92c6883d-930d-4741-8c16-8ec865562674"
      },
      "execution_count": 24,
      "outputs": [
        {
          "output_type": "stream",
          "name": "stdout",
          "text": [
            "(10000, 24715)\n"
          ]
        }
      ]
    },
    {
      "cell_type": "code",
      "source": [
        "def retrieve_similar_reviews(query,top_k=5):\n",
        "  cleaned_query = preprocess_text(query)\n",
        "  query_vector=vectorizer.transform([cleaned_query])\n",
        "  similarity_scores = cosine_similarity(query_vector,tfidf_matrix).flatten()\n",
        "  top_indices=similarity_scores.argsort()[-top_k:][::-1]\n",
        "  results=pd.DataFrame({'Original Review': reviews.iloc[top_indices].values,\n",
        "        'Cleaned Review': cleaned_reviews.iloc[top_indices].values,\n",
        "        'Similarity Score': similarity_scores[top_indices]\n",
        "  })\n",
        "  return results"
      ],
      "metadata": {
        "id": "sxzT-DvehqNG"
      },
      "execution_count": 29,
      "outputs": []
    },
    {
      "cell_type": "code",
      "source": [
        "query1 = \"great product with fast shipping\"\n",
        "print(\"\\nTop Matches for Query 1:\")\n",
        "print(retrieve_similar_reviews(query1))\n",
        "query2 = \"disappointed\"\n",
        "print(\"\\nTop Matches for Query 2:\")\n",
        "print(retrieve_similar_reviews(query2))\n"
      ],
      "metadata": {
        "colab": {
          "base_uri": "https://localhost:8080/"
        },
        "id": "ITmcZWzXjUsO",
        "outputId": "52526e35-ed2c-419d-cd69-a49734d3c3f8"
      },
      "execution_count": 30,
      "outputs": [
        {
          "output_type": "stream",
          "name": "stdout",
          "text": [
            "\n",
            "Top Matches for Query 1:\n",
            "                                     Original Review  ... Similarity Score\n",
            "0  Enjoyed the product and they also provided ver...  ...         0.502383\n",
            "1  The tea is good and fresh. We enjoy it. The sh...  ...         0.443917\n",
            "2  My daughter lives in Hawaii and sent me some g...  ...         0.405396\n",
            "3  The energy drink is a great product. The shipp...  ...         0.403060\n",
            "4  Fast shipping, items were packaged nicely and ...  ...         0.390348\n",
            "\n",
            "[5 rows x 3 columns]\n",
            "\n",
            "Top Matches for Query 2:\n",
            "                                     Original Review  ... Similarity Score\n",
            "0  I am a bit disappointed.  The flavor was not w...  ...         0.484993\n",
            "1  Disappointed.  The big boxes had a very differ...  ...         0.320797\n",
            "2  Just plain nasty!!! This item tasted like card...  ...         0.311343\n",
            "3  The product is very good. Way too expensive an...  ...         0.310343\n",
            "4  this stuff really works, i love it and cant ge...  ...         0.308053\n",
            "\n",
            "[5 rows x 3 columns]\n"
          ]
        }
      ]
    }
  ]
}